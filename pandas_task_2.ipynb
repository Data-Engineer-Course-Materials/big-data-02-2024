{
 "cells": [
  {
   "cell_type": "code",
   "execution_count": 1,
   "id": "2936b310-446f-45c3-bf49-e6cd5bf8eea8",
   "metadata": {},
   "outputs": [],
   "source": [
    "# Import all libraries needed for the tutorial\n",
    "\n",
    "# General syntax to import specific functions in a library: \n",
    "##from (library) import (specific library function)\n",
    "from pandas import DataFrame, read_csv\n",
    "\n",
    "# General syntax to import a library but no functions: \n",
    "##import (library) as (give the library a nickname/alias)\n",
    "import matplotlib.pyplot as plt\n",
    "import pandas as pd #this is how I usually import pandas\n",
    "import sys #only needed to determine Python version number\n",
    "import matplotlib #only needed to determine Matplotlib version number\n",
    "\n",
    "# Enable inline plotting\n",
    "%matplotlib inline"
   ]
  },
  {
   "cell_type": "markdown",
   "id": "e8b36b2f-ad1f-4f3b-9629-e42335a2ede3",
   "metadata": {},
   "source": [
    "## Сгенерировать данные (датасет) случайным образом:\n",
    "\n",
    "```text\n",
    "date_in     | customer_count | country_code | status\n",
    "----------------------------------------------------\n",
    "2024-01-01  | 901            | RU           | 1\n",
    "2024-01-02  | 901            | US           | 2\n",
    "2024-01-03  | 901            | KZ           | 1\n",
    "2024-01-04  | 901            | IT           | 3\n",
    "2024-01-05  | 901            | RU           | 1\n",
    "2024-01-06  | 901            | RU           | 3\n",
    "2024-01-01  | 901            | US           | 1\n",
    "2024-01-02  | 1024           | US           | 2\n",
    "2024-01-03  | 901            | KZ           | 1\n",
    "2024-01-04  | 901            | IT           | 3\n",
    "2024-01-05  | 901            | RU           | 1\n",
    "2024-01-06  | 901            | RU           | 3\n",
    "```\n",
    "\n",
    "для примера будем создавать датасет для диапазона 2024-01-01-2024-02-28 x 4"
   ]
  },
  {
   "cell_type": "code",
   "execution_count": 2,
   "id": "f888e2ea-94e1-4141-8adc-051cc380db12",
   "metadata": {},
   "outputs": [],
   "source": [
    "def create_dataset(number=1):\n",
    "    pass"
   ]
  },
  {
   "cell_type": "code",
   "execution_count": null,
   "id": "2655358f-0a40-4afe-90e3-e6ac48e33095",
   "metadata": {},
   "outputs": [],
   "source": [
    "dataset = create_dataset(4)\n",
    "df = pd.DataFrame(data=dataset, columns=['date_in', 'coustomer_count', 'country_code', 'status'])"
   ]
  }
 ],
 "metadata": {
  "kernelspec": {
   "display_name": "Python 3 (ipykernel)",
   "language": "python",
   "name": "python3"
  },
  "language_info": {
   "codemirror_mode": {
    "name": "ipython",
    "version": 3
   },
   "file_extension": ".py",
   "mimetype": "text/x-python",
   "name": "python",
   "nbconvert_exporter": "python",
   "pygments_lexer": "ipython3",
   "version": "3.10.0"
  }
 },
 "nbformat": 4,
 "nbformat_minor": 5
}
