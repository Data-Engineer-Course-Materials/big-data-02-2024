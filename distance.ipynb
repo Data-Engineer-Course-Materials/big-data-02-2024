{
 "cells": [
  {
   "cell_type": "markdown",
   "id": "850f700d-f821-458d-b862-63c57a2b7ca6",
   "metadata": {},
   "source": [
    "*Даны:* два вектора (данные двух человек)\n",
    "\n",
    "Нужно понять, насколько они схожи"
   ]
  },
  {
   "cell_type": "code",
   "execution_count": 1,
   "id": "3d3bba30-c173-47b4-9867-fb2e656df5a3",
   "metadata": {},
   "outputs": [
    {
     "data": {
      "text/plain": [
       "0.9997393336843805"
      ]
     },
     "execution_count": 1,
     "metadata": {},
     "output_type": "execute_result"
    }
   ],
   "source": [
    "import numpy as np\n",
    "\n",
    "b= np.array([1.76, 54, 36.23])\n",
    "c = np.array([1.52, 47, 30])\n",
    "\n",
    "numerator = np.dot(b,c)\n",
    "blen = np.linalg.norm(b)\n",
    "clen = np.linalg.norm(c)\n",
    "\n",
    "cosine = numerator / (blen * clen)\n",
    "cosine"
   ]
  },
  {
   "cell_type": "code",
   "execution_count": 2,
   "id": "8166251e-7895-4b66-b0c2-a91e3f36cff4",
   "metadata": {},
   "outputs": [
    {
     "data": {
      "text/plain": [
       "1.3082463184243107"
      ]
     },
     "execution_count": 2,
     "metadata": {},
     "output_type": "execute_result"
    }
   ],
   "source": [
    "angle_radians = np.arccos(cosine)\n",
    "angle_degrees = angle_radians*360/2/np.pi\n",
    "angle_degrees"
   ]
  },
  {
   "cell_type": "code",
   "execution_count": null,
   "id": "4d19e2da-8b96-46ca-a54a-6318fc8ea862",
   "metadata": {},
   "outputs": [],
   "source": []
  }
 ],
 "metadata": {
  "kernelspec": {
   "display_name": "Python 3 (ipykernel)",
   "language": "python",
   "name": "python3"
  },
  "language_info": {
   "codemirror_mode": {
    "name": "ipython",
    "version": 3
   },
   "file_extension": ".py",
   "mimetype": "text/x-python",
   "name": "python",
   "nbconvert_exporter": "python",
   "pygments_lexer": "ipython3",
   "version": "3.10.0"
  }
 },
 "nbformat": 4,
 "nbformat_minor": 5
}
