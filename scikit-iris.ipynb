{
 "cells": [
  {
   "cell_type": "code",
   "execution_count": 1,
   "id": "81f4967b-eeca-4ccc-ad81-05463359e20b",
   "metadata": {},
   "outputs": [],
   "source": [
    "# Import all libraries needed for the tutorial\n",
    "\n",
    "# General syntax to import specific functions in a library: \n",
    "##from (library) import (specific library function)\n",
    "from pandas import DataFrame, read_csv\n",
    "\n",
    "# General syntax to import a library but no functions: \n",
    "##import (library) as (give the library a nickname/alias)\n",
    "import matplotlib.pyplot as plt\n",
    "import pandas as pd #this is how I usually import pandas\n",
    "import sys #only needed to determine Python version number\n",
    "import matplotlib #only needed to determine Matplotlib version number\n",
    "\n",
    "# Enable inline plotting\n",
    "%matplotlib inline"
   ]
  },
  {
   "cell_type": "code",
   "execution_count": 2,
   "id": "95702e4e-449c-4bb7-afaa-8578dd1cc60d",
   "metadata": {},
   "outputs": [],
   "source": [
    "from  sklearn import tree\n",
    "from  sklearn.tree import DecisionTreeClassifier\n",
    "from sklearn.model_selection import train_test_split"
   ]
  },
  {
   "cell_type": "code",
   "execution_count": 4,
   "id": "d0b43d56-c66c-424b-8728-6e18ee85e94d",
   "metadata": {},
   "outputs": [],
   "source": [
    "from sklearn.datasets import load_iris\n",
    "\n",
    "iris = load_iris()"
   ]
  },
  {
   "cell_type": "markdown",
   "id": "8225e8c7-989b-49da-ab6e-df4008a68974",
   "metadata": {},
   "source": [
    "# Задание\n",
    "\n",
    "- поделить на test и train (test не меньше чем 25%)\n",
    "- подобрать параметры DesicionTree для достижения наилучших значений f1, recall, precision. Визуализировать наилучшее дерево.\n",
    "- проанализировать признаки (features), отсортировать их по важности, выбрать 2 наиболее важные\n",
    "- построить confusion matrix для наилучшего дерева"
   ]
  },
  {
   "cell_type": "code",
   "execution_count": null,
   "id": "1201f113-d1c5-4714-8049-b178b8d5b954",
   "metadata": {},
   "outputs": [],
   "source": []
  }
 ],
 "metadata": {
  "kernelspec": {
   "display_name": "Python 3 (ipykernel)",
   "language": "python",
   "name": "python3"
  },
  "language_info": {
   "codemirror_mode": {
    "name": "ipython",
    "version": 3
   },
   "file_extension": ".py",
   "mimetype": "text/x-python",
   "name": "python",
   "nbconvert_exporter": "python",
   "pygments_lexer": "ipython3",
   "version": "3.10.0"
  }
 },
 "nbformat": 4,
 "nbformat_minor": 5
}
