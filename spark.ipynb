{
 "cells": [
  {
   "cell_type": "code",
   "execution_count": 1,
   "id": "f5aa3af8-d790-499a-af3e-7067e83be6fa",
   "metadata": {},
   "outputs": [],
   "source": [
    "from pyspark.sql import SparkSession\n",
    "\n",
    "spark = SparkSession.builder.getOrCreate()"
   ]
  },
  {
   "cell_type": "code",
   "execution_count": 5,
   "id": "0a21ec2c-1f07-4cf0-9b67-e803abee79f8",
   "metadata": {},
   "outputs": [
    {
     "name": "stdout",
     "output_type": "stream",
     "text": [
      "+---+---+-------+----------+-------------------+\n",
      "|  a|  b|      c|         d|                  e|\n",
      "+---+---+-------+----------+-------------------+\n",
      "|  1|  2|string1|2023-03-03|2024-03-03 01:01:01|\n",
      "|  2|  3|string2|2023-03-04|2024-03-03 01:01:01|\n",
      "|  3|  4|string3|2023-03-05|2024-03-03 01:01:01|\n",
      "+---+---+-------+----------+-------------------+\n",
      "\n"
     ]
    }
   ],
   "source": [
    "from pyspark.sql import Row\n",
    "from datetime import date, datetime\n",
    "\n",
    "# Row\n",
    "df = spark.createDataFrame([\n",
    "    Row(a=1, b=2, c='string1', d=date(2023,3,3), e=datetime(2024,3,3,1,1,1)),\n",
    "    Row(a=2, b=3, c='string2', d=date(2023,3,4), e=datetime(2024,3,3,1,1,1)),\n",
    "    Row(a=3, b=4, c='string3', d=date(2023,3,5), e=datetime(2024,3,3,1,1,1))\n",
    "])\n",
    "\n",
    "df.show()"
   ]
  },
  {
   "cell_type": "code",
   "execution_count": 7,
   "id": "4566c319-7bac-4df7-a0de-7e38e050c980",
   "metadata": {},
   "outputs": [
    {
     "data": {
      "text/plain": [
       "DataFrame[a: bigint, b: bigint, c: string, d: date, e: timestamp]"
      ]
     },
     "execution_count": 7,
     "metadata": {},
     "output_type": "execute_result"
    }
   ],
   "source": [
    "df = spark.createDataFrame([\n",
    "    (1, 2, 'string1', date(2023,3,3), datetime(2024,3,3,1,1,1)),\n",
    "    (2, 3, 'string2', date(2023,3,4), datetime(2024,3,3,1,1,1)),\n",
    "    (3, 4, 'string3', date(2023,3,5), datetime(2024,3,3,1,1,1))\n",
    "], schema='a long, b long, c string, d date, e timestamp')\n",
    "\n",
    "df"
   ]
  },
  {
   "cell_type": "code",
   "execution_count": 8,
   "id": "ab28e372-7f35-446d-80e0-c3790bf13df7",
   "metadata": {},
   "outputs": [
    {
     "name": "stdout",
     "output_type": "stream",
     "text": [
      "+---+---+-------+----------+-------------------+\n",
      "|  a|  b|      c|         d|                  e|\n",
      "+---+---+-------+----------+-------------------+\n",
      "|  1|  2|string1|2023-03-03|2024-03-03 01:01:01|\n",
      "|  2|  3|string2|2023-03-04|2024-03-03 01:01:01|\n",
      "|  3|  4|string3|2023-03-05|2024-03-03 01:01:01|\n",
      "+---+---+-------+----------+-------------------+\n",
      "\n"
     ]
    }
   ],
   "source": [
    "df.show()"
   ]
  },
  {
   "cell_type": "code",
   "execution_count": 9,
   "id": "87b30725-775a-42dc-885b-855d26a4f6a6",
   "metadata": {},
   "outputs": [
    {
     "data": {
      "text/plain": [
       "DataFrame[a: bigint, b: bigint, c: string, d: date, e: timestamp]"
      ]
     },
     "execution_count": 9,
     "metadata": {},
     "output_type": "execute_result"
    }
   ],
   "source": [
    "import pandas as pd\n",
    "\n",
    "pandas_df = pd.DataFrame({\n",
    "    \"a\": [1,2,3],\n",
    "    \"b\":[2,3,4],\n",
    "    \"c\":['string1', 'string2', 'string3'],\n",
    "    \"d\": [date(2023,3,3), date(2023,3,4), date(2023,3,5)],\n",
    "    \"e\": [datetime(2024,3,3,1,1,1), datetime(2024,3,3,1,1,1), datetime(2024,3,3,1,1,1)]\n",
    "})\n",
    "df = spark.createDataFrame(pandas_df)\n",
    "df"
   ]
  },
  {
   "cell_type": "code",
   "execution_count": 10,
   "id": "1dedf76c-e1b3-4146-9152-0a3cab8dcb36",
   "metadata": {},
   "outputs": [
    {
     "name": "stdout",
     "output_type": "stream",
     "text": [
      "+---+---+-------+----------+-------------------+\n",
      "|  a|  b|      c|         d|                  e|\n",
      "+---+---+-------+----------+-------------------+\n",
      "|  1|  2|string1|2023-03-03|2024-03-03 01:01:01|\n",
      "|  2|  3|string2|2023-03-04|2024-03-03 01:01:01|\n",
      "|  3|  4|string3|2023-03-05|2024-03-03 01:01:01|\n",
      "+---+---+-------+----------+-------------------+\n",
      "\n"
     ]
    }
   ],
   "source": [
    "df.show()"
   ]
  },
  {
   "cell_type": "code",
   "execution_count": 11,
   "id": "cdd11094-e5a0-4dd2-a1e8-a945fb8651d2",
   "metadata": {},
   "outputs": [
    {
     "name": "stdout",
     "output_type": "stream",
     "text": [
      "root\n",
      " |-- a: long (nullable = true)\n",
      " |-- b: long (nullable = true)\n",
      " |-- c: string (nullable = true)\n",
      " |-- d: date (nullable = true)\n",
      " |-- e: timestamp (nullable = true)\n",
      "\n"
     ]
    }
   ],
   "source": [
    "df.printSchema()"
   ]
  },
  {
   "cell_type": "code",
   "execution_count": 12,
   "id": "5ffc0b47-8290-4982-a504-6c6c7411338e",
   "metadata": {},
   "outputs": [
    {
     "name": "stdout",
     "output_type": "stream",
     "text": [
      "+---+---+-------+----------+-------------------+\n",
      "|  a|  b|      c|         d|                  e|\n",
      "+---+---+-------+----------+-------------------+\n",
      "|  1|  2|string1|2023-03-03|2024-03-03 01:01:01|\n",
      "+---+---+-------+----------+-------------------+\n",
      "only showing top 1 row\n",
      "\n"
     ]
    }
   ],
   "source": [
    "df.show(1)"
   ]
  },
  {
   "cell_type": "code",
   "execution_count": 13,
   "id": "a125f390-e2a6-4d7c-a5b0-8d1ad510880a",
   "metadata": {},
   "outputs": [
    {
     "name": "stdout",
     "output_type": "stream",
     "text": [
      "-RECORD 0------------------\n",
      " a   | 1                   \n",
      " b   | 2                   \n",
      " c   | string1             \n",
      " d   | 2023-03-03          \n",
      " e   | 2024-03-03 01:01:01 \n",
      "only showing top 1 row\n",
      "\n"
     ]
    }
   ],
   "source": [
    "df.show(1, vertical=True)"
   ]
  },
  {
   "cell_type": "code",
   "execution_count": 14,
   "id": "bc8e0098-ea65-4413-a5d6-b042dd23dcc5",
   "metadata": {},
   "outputs": [
    {
     "data": {
      "text/plain": [
       "['a', 'b', 'c', 'd', 'e']"
      ]
     },
     "execution_count": 14,
     "metadata": {},
     "output_type": "execute_result"
    }
   ],
   "source": [
    "df.columns"
   ]
  },
  {
   "cell_type": "code",
   "execution_count": 15,
   "id": "4eee38e1-c94a-4f7e-9fd5-f99be2f7a13c",
   "metadata": {},
   "outputs": [
    {
     "name": "stdout",
     "output_type": "stream",
     "text": [
      "+-------+---+---+-------+\n",
      "|summary|  a|  b|      c|\n",
      "+-------+---+---+-------+\n",
      "|  count|  3|  3|      3|\n",
      "|   mean|2.0|3.0|   NULL|\n",
      "| stddev|1.0|1.0|   NULL|\n",
      "|    min|  1|  2|string1|\n",
      "|    max|  3|  4|string3|\n",
      "+-------+---+---+-------+\n",
      "\n"
     ]
    }
   ],
   "source": [
    "df.select(\"a\", \"b\", \"c\").describe().show()"
   ]
  },
  {
   "cell_type": "code",
   "execution_count": 16,
   "id": "996c7afc-726b-4f1f-bc72-04b8a57be0c1",
   "metadata": {},
   "outputs": [
    {
     "data": {
      "text/html": [
       "<div>\n",
       "<style scoped>\n",
       "    .dataframe tbody tr th:only-of-type {\n",
       "        vertical-align: middle;\n",
       "    }\n",
       "\n",
       "    .dataframe tbody tr th {\n",
       "        vertical-align: top;\n",
       "    }\n",
       "\n",
       "    .dataframe thead th {\n",
       "        text-align: right;\n",
       "    }\n",
       "</style>\n",
       "<table border=\"1\" class=\"dataframe\">\n",
       "  <thead>\n",
       "    <tr style=\"text-align: right;\">\n",
       "      <th></th>\n",
       "      <th>a</th>\n",
       "      <th>b</th>\n",
       "      <th>c</th>\n",
       "      <th>d</th>\n",
       "      <th>e</th>\n",
       "    </tr>\n",
       "  </thead>\n",
       "  <tbody>\n",
       "    <tr>\n",
       "      <th>0</th>\n",
       "      <td>1</td>\n",
       "      <td>2</td>\n",
       "      <td>string1</td>\n",
       "      <td>2023-03-03</td>\n",
       "      <td>2024-03-03 01:01:01</td>\n",
       "    </tr>\n",
       "    <tr>\n",
       "      <th>1</th>\n",
       "      <td>2</td>\n",
       "      <td>3</td>\n",
       "      <td>string2</td>\n",
       "      <td>2023-03-04</td>\n",
       "      <td>2024-03-03 01:01:01</td>\n",
       "    </tr>\n",
       "    <tr>\n",
       "      <th>2</th>\n",
       "      <td>3</td>\n",
       "      <td>4</td>\n",
       "      <td>string3</td>\n",
       "      <td>2023-03-05</td>\n",
       "      <td>2024-03-03 01:01:01</td>\n",
       "    </tr>\n",
       "  </tbody>\n",
       "</table>\n",
       "</div>"
      ],
      "text/plain": [
       "   a  b        c           d                   e\n",
       "0  1  2  string1  2023-03-03 2024-03-03 01:01:01\n",
       "1  2  3  string2  2023-03-04 2024-03-03 01:01:01\n",
       "2  3  4  string3  2023-03-05 2024-03-03 01:01:01"
      ]
     },
     "execution_count": 16,
     "metadata": {},
     "output_type": "execute_result"
    }
   ],
   "source": [
    "pandas_df = df.toPandas()\n",
    "pandas_df"
   ]
  },
  {
   "cell_type": "code",
   "execution_count": 17,
   "id": "1be4f015-ff6a-4559-8cf6-36ecfdbd7a4c",
   "metadata": {},
   "outputs": [
    {
     "data": {
      "text/plain": [
       "Column<'a'>"
      ]
     },
     "execution_count": 17,
     "metadata": {},
     "output_type": "execute_result"
    }
   ],
   "source": [
    "df.a"
   ]
  },
  {
   "cell_type": "code",
   "execution_count": 18,
   "id": "14ac5cc0-41fb-44e9-960a-f19ee4336a55",
   "metadata": {},
   "outputs": [
    {
     "data": {
      "text/plain": [
       "Column<'a'>"
      ]
     },
     "execution_count": 18,
     "metadata": {},
     "output_type": "execute_result"
    }
   ],
   "source": [
    "df['a']"
   ]
  },
  {
   "cell_type": "code",
   "execution_count": 22,
   "id": "3dccdda8-74de-4563-8433-b136ee80ca31",
   "metadata": {},
   "outputs": [
    {
     "name": "stdout",
     "output_type": "stream",
     "text": [
      "+---+\n",
      "|  a|\n",
      "+---+\n",
      "|  1|\n",
      "|  2|\n",
      "|  3|\n",
      "+---+\n",
      "\n"
     ]
    }
   ],
   "source": [
    "df.select(df.a).show()"
   ]
  },
  {
   "cell_type": "code",
   "execution_count": 23,
   "id": "6ed70e6a-ad84-42e1-b52b-467f7ea8373e",
   "metadata": {},
   "outputs": [
    {
     "name": "stdout",
     "output_type": "stream",
     "text": [
      "+---+---+-------+----------+-------------------+-------+\n",
      "|  a|  b|      c|         d|                  e|upper_c|\n",
      "+---+---+-------+----------+-------------------+-------+\n",
      "|  1|  2|string1|2023-03-03|2024-03-03 01:01:01|STRING1|\n",
      "|  2|  3|string2|2023-03-04|2024-03-03 01:01:01|STRING2|\n",
      "|  3|  4|string3|2023-03-05|2024-03-03 01:01:01|STRING3|\n",
      "+---+---+-------+----------+-------------------+-------+\n",
      "\n"
     ]
    }
   ],
   "source": [
    "from pyspark.sql.functions import upper\n",
    "\n",
    "df.withColumn('upper_c', upper(df.c)).show()"
   ]
  },
  {
   "cell_type": "code",
   "execution_count": 25,
   "id": "7305928e-778a-47aa-b5ff-51dea8dcc68e",
   "metadata": {},
   "outputs": [
    {
     "name": "stdout",
     "output_type": "stream",
     "text": [
      "+---+---+-------+----------+-------------------+\n",
      "|  a|  b|      c|         d|                  e|\n",
      "+---+---+-------+----------+-------------------+\n",
      "|  1|  2|string1|2023-03-03|2024-03-03 01:01:01|\n",
      "|  2|  3|string2|2023-03-04|2024-03-03 01:01:01|\n",
      "+---+---+-------+----------+-------------------+\n",
      "\n"
     ]
    }
   ],
   "source": [
    "df.filter(df.a<=2).show()"
   ]
  },
  {
   "cell_type": "code",
   "execution_count": 27,
   "id": "eb3aa5db-b41a-4f36-9818-773d00ec3162",
   "metadata": {},
   "outputs": [
    {
     "name": "stdout",
     "output_type": "stream",
     "text": [
      "+---+---+-------+----------+-------------------+------+\n",
      "|  a|  b|      c|         d|                  e|a_plus|\n",
      "+---+---+-------+----------+-------------------+------+\n",
      "|  1|  2|string1|2023-03-03|2024-03-03 01:01:01|     2|\n",
      "|  2|  3|string2|2023-03-04|2024-03-03 01:01:01|     3|\n",
      "|  3|  4|string3|2023-03-05|2024-03-03 01:01:01|     4|\n",
      "+---+---+-------+----------+-------------------+------+\n",
      "\n"
     ]
    }
   ],
   "source": [
    "from pyspark.sql.functions import pandas_udf\n",
    "\n",
    "@pandas_udf('long')\n",
    "def plus_one(series: pd.Series) -> pd.Series:\n",
    "    return series+1\n",
    "\n",
    "df.withColumn('a_plus', plus_one(df.a)).show()"
   ]
  },
  {
   "cell_type": "code",
   "execution_count": 28,
   "id": "51664b2d-bfb9-415a-9934-be57dfb93785",
   "metadata": {},
   "outputs": [
    {
     "name": "stdout",
     "output_type": "stream",
     "text": [
      "+---+---------+--------------------+--------------------+------+-----+-----------------+-------------------+-----------------+------------------+---------------------+--------------------+------------------+-------------------+\n",
      "|_c0|  country|         description|         designation|points|price|         province|           region_1|         region_2|       taster_name|taster_twitter_handle|               title|           variety|             winery|\n",
      "+---+---------+--------------------+--------------------+------+-----+-----------------+-------------------+-----------------+------------------+---------------------+--------------------+------------------+-------------------+\n",
      "|  0|    Italy|Aromas include tr...|        Vulkà Bianco|    87| NULL|Sicily & Sardinia|               Etna|             NULL|     Kerin O’Keefe|         @kerinokeefe|Nicosia 2013 Vulk...|       White Blend|            Nicosia|\n",
      "|  1| Portugal|This is ripe and ...|            Avidagos|    87| 15.0|            Douro|               NULL|             NULL|        Roger Voss|           @vossroger|Quinta dos Avidag...|    Portuguese Red|Quinta dos Avidagos|\n",
      "|  2|       US|Tart and snappy, ...|                NULL|    87| 14.0|           Oregon|  Willamette Valley|Willamette Valley|      Paul Gregutt|          @paulgwine |Rainstorm 2013 Pi...|        Pinot Gris|          Rainstorm|\n",
      "|  3|       US|Pineapple rind, l...|Reserve Late Harvest|    87| 13.0|         Michigan|Lake Michigan Shore|             NULL|Alexander Peartree|                 NULL|St. Julian 2013 R...|          Riesling|         St. Julian|\n",
      "|  4|       US|Much like the reg...|Vintner's Reserve...|    87| 65.0|           Oregon|  Willamette Valley|Willamette Valley|      Paul Gregutt|          @paulgwine |Sweet Cheeks 2012...|        Pinot Noir|       Sweet Cheeks|\n",
      "|  5|    Spain|Blackberry and ra...|        Ars In Vitro|    87| 15.0|   Northern Spain|            Navarra|             NULL| Michael Schachner|          @wineschach|Tandem 2011 Ars I...|Tempranillo-Merlot|             Tandem|\n",
      "|  6|    Italy|Here's a bright, ...|             Belsito|    87| 16.0|Sicily & Sardinia|           Vittoria|             NULL|     Kerin O’Keefe|         @kerinokeefe|Terre di Giurfo 2...|          Frappato|    Terre di Giurfo|\n",
      "|  7|   France|This dry and rest...|                NULL|    87| 24.0|           Alsace|             Alsace|             NULL|        Roger Voss|           @vossroger|Trimbach 2012 Gew...|    Gewürztraminer|           Trimbach|\n",
      "|  8|  Germany|Savory dried thym...|               Shine|    87| 12.0|      Rheinhessen|               NULL|             NULL|Anna Lee C. Iijima|                 NULL|Heinz Eifel 2013 ...|    Gewürztraminer|        Heinz Eifel|\n",
      "|  9|   France|This has great de...|         Les Natures|    87| 27.0|           Alsace|             Alsace|             NULL|        Roger Voss|           @vossroger|Jean-Baptiste Ada...|        Pinot Gris| Jean-Baptiste Adam|\n",
      "| 10|       US|Soft, supple plum...|      Mountain Cuvée|    87| 19.0|       California|        Napa Valley|             Napa|    Virginie Boone|              @vboone|Kirkland Signatur...|Cabernet Sauvignon| Kirkland Signature|\n",
      "| 11|   France|This is a dry win...|                NULL|    87| 30.0|           Alsace|             Alsace|             NULL|        Roger Voss|           @vossroger|Leon Beyer 2012 G...|    Gewürztraminer|         Leon Beyer|\n",
      "| 12|       US|Slightly reduced,...|                NULL|    87| 34.0|       California|   Alexander Valley|           Sonoma|    Virginie Boone|              @vboone|Louis M. Martini ...|Cabernet Sauvignon|   Louis M. Martini|\n",
      "| 13|    Italy|This is dominated...|               Rosso|    87| NULL|Sicily & Sardinia|               Etna|             NULL|     Kerin O’Keefe|         @kerinokeefe|Masseria Settepor...| Nerello Mascalese|Masseria Setteporte|\n",
      "| 14|       US|Building on 150 y...|                NULL|    87| 12.0|       California|      Central Coast|    Central Coast|     Matt Kettmann|        @mattkettmann|Mirassou 2012 Cha...|        Chardonnay|           Mirassou|\n",
      "| 15|  Germany|Zesty orange peel...|               Devon|    87| 24.0|            Mosel|               NULL|             NULL|Anna Lee C. Iijima|                 NULL|Richard Böcking 2...|          Riesling|    Richard Böcking|\n",
      "| 16|Argentina|Baked plum, molas...|               Felix|    87| 30.0|            Other|           Cafayate|             NULL| Michael Schachner|          @wineschach|Felix Lavaque 201...|            Malbec|      Felix Lavaque|\n",
      "| 17|Argentina|Raw black-cherry ...| Winemaker Selection|    87| 13.0| Mendoza Province|            Mendoza|             NULL| Michael Schachner|          @wineschach|Gaucho Andino 201...|            Malbec|      Gaucho Andino|\n",
      "| 18|    Spain|Desiccated blackb...|Vendimia Seleccio...|    87| 28.0|   Northern Spain|   Ribera del Duero|             NULL| Michael Schachner|          @wineschach|Pradorey 2010 Ven...| Tempranillo Blend|           Pradorey|\n",
      "| 19|       US|Red fruit aromas ...|                NULL|    87| 32.0|         Virginia|           Virginia|             NULL|Alexander Peartree|                 NULL|Quiévremont 2012 ...|          Meritage|        Quiévremont|\n",
      "+---+---------+--------------------+--------------------+------+-----+-----------------+-------------------+-----------------+------------------+---------------------+--------------------+------------------+-------------------+\n",
      "only showing top 20 rows\n",
      "\n"
     ]
    }
   ],
   "source": [
    "wine_df = spark.read.csv('winemag-data-130k-v2.csv', header=True)\n",
    "wine_df.show(20)"
   ]
  },
  {
   "cell_type": "code",
   "execution_count": 33,
   "id": "d106c87d-812d-4818-8f86-f388816a3578",
   "metadata": {},
   "outputs": [
    {
     "name": "stdout",
     "output_type": "stream",
     "text": [
      "+---+---------+--------------------+--------------------+------+-----+-----------------+-------------------+-----------------+------------------+---------------------+--------------------+------------------+-------------------+\n",
      "|_c0|  country|         description|         designation|points|price|         province|           region_1|         region_2|       taster_name|taster_twitter_handle|               title|           variety|             winery|\n",
      "+---+---------+--------------------+--------------------+------+-----+-----------------+-------------------+-----------------+------------------+---------------------+--------------------+------------------+-------------------+\n",
      "|  1| Portugal|This is ripe and ...|            Avidagos|    87| 15.0|            Douro|               NULL|             NULL|        Roger Voss|           @vossroger|Quinta dos Avidag...|    Portuguese Red|Quinta dos Avidagos|\n",
      "|  2|       US|Tart and snappy, ...|                NULL|    87| 14.0|           Oregon|  Willamette Valley|Willamette Valley|      Paul Gregutt|          @paulgwine |Rainstorm 2013 Pi...|        Pinot Gris|          Rainstorm|\n",
      "|  3|       US|Pineapple rind, l...|Reserve Late Harvest|    87| 13.0|         Michigan|Lake Michigan Shore|             NULL|Alexander Peartree|                 NULL|St. Julian 2013 R...|          Riesling|         St. Julian|\n",
      "|  4|       US|Much like the reg...|Vintner's Reserve...|    87| 65.0|           Oregon|  Willamette Valley|Willamette Valley|      Paul Gregutt|          @paulgwine |Sweet Cheeks 2012...|        Pinot Noir|       Sweet Cheeks|\n",
      "|  5|    Spain|Blackberry and ra...|        Ars In Vitro|    87| 15.0|   Northern Spain|            Navarra|             NULL| Michael Schachner|          @wineschach|Tandem 2011 Ars I...|Tempranillo-Merlot|             Tandem|\n",
      "|  6|    Italy|Here's a bright, ...|             Belsito|    87| 16.0|Sicily & Sardinia|           Vittoria|             NULL|     Kerin O’Keefe|         @kerinokeefe|Terre di Giurfo 2...|          Frappato|    Terre di Giurfo|\n",
      "|  7|   France|This dry and rest...|                NULL|    87| 24.0|           Alsace|             Alsace|             NULL|        Roger Voss|           @vossroger|Trimbach 2012 Gew...|    Gewürztraminer|           Trimbach|\n",
      "|  8|  Germany|Savory dried thym...|               Shine|    87| 12.0|      Rheinhessen|               NULL|             NULL|Anna Lee C. Iijima|                 NULL|Heinz Eifel 2013 ...|    Gewürztraminer|        Heinz Eifel|\n",
      "|  9|   France|This has great de...|         Les Natures|    87| 27.0|           Alsace|             Alsace|             NULL|        Roger Voss|           @vossroger|Jean-Baptiste Ada...|        Pinot Gris| Jean-Baptiste Adam|\n",
      "| 10|       US|Soft, supple plum...|      Mountain Cuvée|    87| 19.0|       California|        Napa Valley|             Napa|    Virginie Boone|              @vboone|Kirkland Signatur...|Cabernet Sauvignon| Kirkland Signature|\n",
      "| 11|   France|This is a dry win...|                NULL|    87| 30.0|           Alsace|             Alsace|             NULL|        Roger Voss|           @vossroger|Leon Beyer 2012 G...|    Gewürztraminer|         Leon Beyer|\n",
      "| 12|       US|Slightly reduced,...|                NULL|    87| 34.0|       California|   Alexander Valley|           Sonoma|    Virginie Boone|              @vboone|Louis M. Martini ...|Cabernet Sauvignon|   Louis M. Martini|\n",
      "| 14|       US|Building on 150 y...|                NULL|    87| 12.0|       California|      Central Coast|    Central Coast|     Matt Kettmann|        @mattkettmann|Mirassou 2012 Cha...|        Chardonnay|           Mirassou|\n",
      "| 15|  Germany|Zesty orange peel...|               Devon|    87| 24.0|            Mosel|               NULL|             NULL|Anna Lee C. Iijima|                 NULL|Richard Böcking 2...|          Riesling|    Richard Böcking|\n",
      "| 16|Argentina|Baked plum, molas...|               Felix|    87| 30.0|            Other|           Cafayate|             NULL| Michael Schachner|          @wineschach|Felix Lavaque 201...|            Malbec|      Felix Lavaque|\n",
      "| 17|Argentina|Raw black-cherry ...| Winemaker Selection|    87| 13.0| Mendoza Province|            Mendoza|             NULL| Michael Schachner|          @wineschach|Gaucho Andino 201...|            Malbec|      Gaucho Andino|\n",
      "| 18|    Spain|Desiccated blackb...|Vendimia Seleccio...|    87| 28.0|   Northern Spain|   Ribera del Duero|             NULL| Michael Schachner|          @wineschach|Pradorey 2010 Ven...| Tempranillo Blend|           Pradorey|\n",
      "| 19|       US|Red fruit aromas ...|                NULL|    87| 32.0|         Virginia|           Virginia|             NULL|Alexander Peartree|                 NULL|Quiévremont 2012 ...|          Meritage|        Quiévremont|\n",
      "| 20|       US|Ripe aromas of da...|       Vin de Maison|    87| 23.0|         Virginia|           Virginia|             NULL|Alexander Peartree|                 NULL|Quiévremont 2012 ...|         Red Blend|        Quiévremont|\n",
      "| 21|       US|A sleek mix of ta...|                NULL|    87| 20.0|           Oregon|             Oregon|     Oregon Other|      Paul Gregutt|          @paulgwine |Acrobat 2013 Pino...|        Pinot Noir|            Acrobat|\n",
      "+---+---------+--------------------+--------------------+------+-----+-----------------+-------------------+-----------------+------------------+---------------------+--------------------+------------------+-------------------+\n",
      "only showing top 20 rows\n",
      "\n"
     ]
    }
   ],
   "source": [
    "from pyspark.sql.types import *\n",
    "from pyspark.sql.functions import *\n",
    "\n",
    "@udf(returnType=BooleanType())\n",
    "def is_number_value(val):\n",
    "    try:\n",
    "        float(val)\n",
    "        return True\n",
    "    except:\n",
    "        return False\n",
    "\n",
    "filtered_df = wine_df.filter(col('country').isNotNull()).filter(col('price').isNotNull()).filter(is_number_value(col('price')))\n",
    "filtered_df.show(20)"
   ]
  },
  {
   "cell_type": "code",
   "execution_count": 34,
   "id": "8af91839-0250-41a5-8617-aab3ead1c50e",
   "metadata": {},
   "outputs": [
    {
     "name": "stdout",
     "output_type": "stream",
     "text": [
      "+--------------------+---------+\n",
      "|             country|max_price|\n",
      "+--------------------+---------+\n",
      "|           Argentina|     99.0|\n",
      "|             Armenia|     15.0|\n",
      "|           Australia|     99.0|\n",
      "|             Austria|     99.0|\n",
      "|Bosnia and Herzeg...|     13.0|\n",
      "|              Brazil|     60.0|\n",
      "|            Bulgaria|      9.0|\n",
      "|              Canada|     95.0|\n",
      "|               Chile|     95.0|\n",
      "|               China|     18.0|\n",
      "|             Croatia|     65.0|\n",
      "|              Cyprus|     21.0|\n",
      "|      Czech Republic|     45.0|\n",
      "|             England|     95.0|\n",
      "|              France|     99.0|\n",
      "|             Georgia|      9.0|\n",
      "|             Germany|     99.0|\n",
      "|              Greece|      9.0|\n",
      "|             Hungary|     80.0|\n",
      "|               India|     20.0|\n",
      "+--------------------+---------+\n",
      "only showing top 20 rows\n",
      "\n"
     ]
    }
   ],
   "source": [
    "groupped_df = filtered_df.groupBy(col('country')).agg(max(col('price')).alias('max_price'))\n",
    "groupped_df.show(20)"
   ]
  },
  {
   "cell_type": "code",
   "execution_count": 36,
   "id": "1e286608-71d3-4b95-afa3-98bf2b13ba0b",
   "metadata": {},
   "outputs": [
    {
     "name": "stdout",
     "output_type": "stream",
     "text": [
      "+-----------+---------+\n",
      "|    country|max_price|\n",
      "+-----------+---------+\n",
      "|      Italy|     99.0|\n",
      "|     Israel|     99.0|\n",
      "|  Argentina|     99.0|\n",
      "|  Australia|     99.0|\n",
      "|    Austria|     99.0|\n",
      "|     France|     99.0|\n",
      "|    Germany|     99.0|\n",
      "|New Zealand|     99.0|\n",
      "|   Portugal|     99.0|\n",
      "|      Spain|     99.0|\n",
      "+-----------+---------+\n",
      "only showing top 10 rows\n",
      "\n"
     ]
    }
   ],
   "source": [
    "groupped_df.select(col('country'), col('max_price')).orderBy(col('max_price').desc()).show(10)"
   ]
  },
  {
   "cell_type": "code",
   "execution_count": null,
   "id": "3a29d4f7-a5af-41ac-9200-24de6ff6bda4",
   "metadata": {},
   "outputs": [],
   "source": []
  }
 ],
 "metadata": {
  "kernelspec": {
   "display_name": "Python 3 (ipykernel)",
   "language": "python",
   "name": "python3"
  },
  "language_info": {
   "codemirror_mode": {
    "name": "ipython",
    "version": 3
   },
   "file_extension": ".py",
   "mimetype": "text/x-python",
   "name": "python",
   "nbconvert_exporter": "python",
   "pygments_lexer": "ipython3",
   "version": "3.10.0"
  }
 },
 "nbformat": 4,
 "nbformat_minor": 5
}
